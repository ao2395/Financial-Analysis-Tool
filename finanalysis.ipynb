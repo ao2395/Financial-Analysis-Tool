{
  "cells": [
    {
      "cell_type": "markdown",
      "metadata": {
        "id": "view-in-github",
        "colab_type": "text"
      },
      "source": [
        "<a href=\"https://colab.research.google.com/github/ao2395/Financial-Analysis-Tool/blob/main/finanalysis.ipynb\" target=\"_parent\"><img src=\"https://colab.research.google.com/assets/colab-badge.svg\" alt=\"Open In Colab\"/></a>"
      ]
    },
    {
      "cell_type": "code",
      "execution_count": 1,
      "metadata": {
        "colab": {
          "base_uri": "https://localhost:8080/",
          "height": 513,
          "referenced_widgets": [
            "e3af865da879491e94695cad5db5afc0",
            "fb44ce60e9034b588750a17b32f07437"
          ]
        },
        "id": "HiMBvvFlkXOI",
        "outputId": "a4d362c1-3290-410c-ee23-a3cbd289027f"
      },
      "outputs": [
        {
          "output_type": "stream",
          "name": "stdout",
          "text": [
            "TwelveData API key retrieved successfully!\n",
            "FMP API key is set!\n"
          ]
        },
        {
          "output_type": "stream",
          "name": "stderr",
          "text": [
            "/usr/local/lib/python3.10/dist-packages/_distutils_hack/__init__.py:32: UserWarning: Setuptools is replacing distutils. Support for replacing an already imported distutils is deprecated. In the future, this condition will fail. Register concerns at https://github.com/pypa/setuptools/issues/new?template=distutils-deprecation.yml\n",
            "  warnings.warn(\n",
            "WARNING: pip is being invoked by an old script wrapper. This will fail in a future version of pip.\n",
            "Please see https://github.com/pypa/pip/issues/5599 for advice on fixing the underlying issue.\n",
            "To avoid this problem you can invoke Python with '-m pip' instead of running pip directly.\n"
          ]
        },
        {
          "output_type": "display_data",
          "data": {
            "text/plain": [
              "Collecting mplfinance\n"
            ],
            "text/html": [
              "<pre style=\"white-space:pre;overflow-x:auto;line-height:normal;font-family:Menlo,'DejaVu Sans Mono',consolas,'Courier New',monospace\">Collecting mplfinance\n",
              "</pre>\n"
            ]
          },
          "metadata": {}
        },
        {
          "output_type": "display_data",
          "data": {
            "text/plain": [
              "  Downloading mplfinance-0.12.10b0-py3-none-any.whl.metadata (19 kB)\n"
            ],
            "text/html": [
              "<pre style=\"white-space:pre;overflow-x:auto;line-height:normal;font-family:Menlo,'DejaVu Sans Mono',consolas,'Courier New',monospace\">  Downloading mplfinance-0.12.10b0-py3-none-any.whl.metadata (19 kB)\n",
              "</pre>\n"
            ]
          },
          "metadata": {}
        },
        {
          "output_type": "display_data",
          "data": {
            "text/plain": [
              "Requirement already satisfied: matplotlib in /usr/local/lib/python3.10/dist-packages (from mplfinance) (3.7.1)\n"
            ],
            "text/html": [
              "<pre style=\"white-space:pre;overflow-x:auto;line-height:normal;font-family:Menlo,'DejaVu Sans Mono',consolas,'Courier New',monospace\">Requirement already satisfied: matplotlib in /usr/local/lib/python3.10/dist-packages (from mplfinance) (3.7.1)\n",
              "</pre>\n"
            ]
          },
          "metadata": {}
        },
        {
          "output_type": "display_data",
          "data": {
            "text/plain": [
              "Requirement already satisfied: pandas in /usr/local/lib/python3.10/dist-packages (from mplfinance) (2.1.4)\n"
            ],
            "text/html": [
              "<pre style=\"white-space:pre;overflow-x:auto;line-height:normal;font-family:Menlo,'DejaVu Sans Mono',consolas,'Courier New',monospace\">Requirement already satisfied: pandas in /usr/local/lib/python3.10/dist-packages (from mplfinance) (2.1.4)\n",
              "</pre>\n"
            ]
          },
          "metadata": {}
        },
        {
          "output_type": "display_data",
          "data": {
            "text/plain": [
              "Requirement already satisfied: contourpy>=1.0.1 in /usr/local/lib/python3.10/dist-packages (from matplotlib->mplfinance) (1.3.0)\n"
            ],
            "text/html": [
              "<pre style=\"white-space:pre;overflow-x:auto;line-height:normal;font-family:Menlo,'DejaVu Sans Mono',consolas,'Courier New',monospace\">Requirement already satisfied: contourpy&gt;=1.0.1 in /usr/local/lib/python3.10/dist-packages (from matplotlib-&gt;mplfinance) (1.3.0)\n",
              "</pre>\n"
            ]
          },
          "metadata": {}
        },
        {
          "output_type": "display_data",
          "data": {
            "text/plain": [
              "Requirement already satisfied: cycler>=0.10 in /usr/local/lib/python3.10/dist-packages (from matplotlib->mplfinance) (0.12.1)\n"
            ],
            "text/html": [
              "<pre style=\"white-space:pre;overflow-x:auto;line-height:normal;font-family:Menlo,'DejaVu Sans Mono',consolas,'Courier New',monospace\">Requirement already satisfied: cycler&gt;=0.10 in /usr/local/lib/python3.10/dist-packages (from matplotlib-&gt;mplfinance) (0.12.1)\n",
              "</pre>\n"
            ]
          },
          "metadata": {}
        },
        {
          "output_type": "display_data",
          "data": {
            "text/plain": [
              "Requirement already satisfied: fonttools>=4.22.0 in /usr/local/lib/python3.10/dist-packages (from matplotlib->mplfinance) (4.53.1)\n"
            ],
            "text/html": [
              "<pre style=\"white-space:pre;overflow-x:auto;line-height:normal;font-family:Menlo,'DejaVu Sans Mono',consolas,'Courier New',monospace\">Requirement already satisfied: fonttools&gt;=4.22.0 in /usr/local/lib/python3.10/dist-packages (from matplotlib-&gt;mplfinance) (4.53.1)\n",
              "</pre>\n"
            ]
          },
          "metadata": {}
        },
        {
          "output_type": "display_data",
          "data": {
            "text/plain": [
              "Requirement already satisfied: kiwisolver>=1.0.1 in /usr/local/lib/python3.10/dist-packages (from matplotlib->mplfinance) (1.4.7)\n"
            ],
            "text/html": [
              "<pre style=\"white-space:pre;overflow-x:auto;line-height:normal;font-family:Menlo,'DejaVu Sans Mono',consolas,'Courier New',monospace\">Requirement already satisfied: kiwisolver&gt;=1.0.1 in /usr/local/lib/python3.10/dist-packages (from matplotlib-&gt;mplfinance) (1.4.7)\n",
              "</pre>\n"
            ]
          },
          "metadata": {}
        },
        {
          "output_type": "display_data",
          "data": {
            "text/plain": [
              "Requirement already satisfied: numpy>=1.20 in /usr/local/lib/python3.10/dist-packages (from matplotlib->mplfinance) (1.26.4)\n"
            ],
            "text/html": [
              "<pre style=\"white-space:pre;overflow-x:auto;line-height:normal;font-family:Menlo,'DejaVu Sans Mono',consolas,'Courier New',monospace\">Requirement already satisfied: numpy&gt;=1.20 in /usr/local/lib/python3.10/dist-packages (from matplotlib-&gt;mplfinance) (1.26.4)\n",
              "</pre>\n"
            ]
          },
          "metadata": {}
        },
        {
          "output_type": "display_data",
          "data": {
            "text/plain": [
              "Requirement already satisfied: packaging>=20.0 in /usr/local/lib/python3.10/dist-packages (from matplotlib->mplfinance) (24.1)\n"
            ],
            "text/html": [
              "<pre style=\"white-space:pre;overflow-x:auto;line-height:normal;font-family:Menlo,'DejaVu Sans Mono',consolas,'Courier New',monospace\">Requirement already satisfied: packaging&gt;=20.0 in /usr/local/lib/python3.10/dist-packages (from matplotlib-&gt;mplfinance) (24.1)\n",
              "</pre>\n"
            ]
          },
          "metadata": {}
        },
        {
          "output_type": "display_data",
          "data": {
            "text/plain": [
              "Requirement already satisfied: pillow>=6.2.0 in /usr/local/lib/python3.10/dist-packages (from matplotlib->mplfinance) (9.4.0)\n"
            ],
            "text/html": [
              "<pre style=\"white-space:pre;overflow-x:auto;line-height:normal;font-family:Menlo,'DejaVu Sans Mono',consolas,'Courier New',monospace\">Requirement already satisfied: pillow&gt;=6.2.0 in /usr/local/lib/python3.10/dist-packages (from matplotlib-&gt;mplfinance) (9.4.0)\n",
              "</pre>\n"
            ]
          },
          "metadata": {}
        },
        {
          "output_type": "display_data",
          "data": {
            "text/plain": [
              "Requirement already satisfied: pyparsing>=2.3.1 in /usr/local/lib/python3.10/dist-packages (from matplotlib->mplfinance) (3.1.4)\n"
            ],
            "text/html": [
              "<pre style=\"white-space:pre;overflow-x:auto;line-height:normal;font-family:Menlo,'DejaVu Sans Mono',consolas,'Courier New',monospace\">Requirement already satisfied: pyparsing&gt;=2.3.1 in /usr/local/lib/python3.10/dist-packages (from matplotlib-&gt;mplfinance) (3.1.4)\n",
              "</pre>\n"
            ]
          },
          "metadata": {}
        },
        {
          "output_type": "display_data",
          "data": {
            "text/plain": [
              "Requirement already satisfied: python-dateutil>=2.7 in /usr/local/lib/python3.10/dist-packages (from matplotlib->mplfinance) (2.8.2)\n"
            ],
            "text/html": [
              "<pre style=\"white-space:pre;overflow-x:auto;line-height:normal;font-family:Menlo,'DejaVu Sans Mono',consolas,'Courier New',monospace\">Requirement already satisfied: python-dateutil&gt;=2.7 in /usr/local/lib/python3.10/dist-packages (from matplotlib-&gt;mplfinance) (2.8.2)\n",
              "</pre>\n"
            ]
          },
          "metadata": {}
        },
        {
          "output_type": "display_data",
          "data": {
            "text/plain": [
              "Requirement already satisfied: pytz>=2020.1 in /usr/local/lib/python3.10/dist-packages (from pandas->mplfinance) (2024.1)\n"
            ],
            "text/html": [
              "<pre style=\"white-space:pre;overflow-x:auto;line-height:normal;font-family:Menlo,'DejaVu Sans Mono',consolas,'Courier New',monospace\">Requirement already satisfied: pytz&gt;=2020.1 in /usr/local/lib/python3.10/dist-packages (from pandas-&gt;mplfinance) (2024.1)\n",
              "</pre>\n"
            ]
          },
          "metadata": {}
        },
        {
          "output_type": "display_data",
          "data": {
            "text/plain": [
              "Requirement already satisfied: tzdata>=2022.1 in /usr/local/lib/python3.10/dist-packages (from pandas->mplfinance) (2024.1)\n"
            ],
            "text/html": [
              "<pre style=\"white-space:pre;overflow-x:auto;line-height:normal;font-family:Menlo,'DejaVu Sans Mono',consolas,'Courier New',monospace\">Requirement already satisfied: tzdata&gt;=2022.1 in /usr/local/lib/python3.10/dist-packages (from pandas-&gt;mplfinance) (2024.1)\n",
              "</pre>\n"
            ]
          },
          "metadata": {}
        },
        {
          "output_type": "display_data",
          "data": {
            "text/plain": [
              "Requirement already satisfied: six>=1.5 in /usr/local/lib/python3.10/dist-packages (from python-dateutil>=2.7->matplotlib->mplfinance) (1.16.0)\n"
            ],
            "text/html": [
              "<pre style=\"white-space:pre;overflow-x:auto;line-height:normal;font-family:Menlo,'DejaVu Sans Mono',consolas,'Courier New',monospace\">Requirement already satisfied: six&gt;=1.5 in /usr/local/lib/python3.10/dist-packages (from python-dateutil&gt;=2.7-&gt;matplotlib-&gt;mplfinance) (1.16.0)\n",
              "</pre>\n"
            ]
          },
          "metadata": {}
        },
        {
          "output_type": "display_data",
          "data": {
            "text/plain": [
              "Downloading mplfinance-0.12.10b0-py3-none-any.whl (75 kB)\n"
            ],
            "text/html": [
              "<pre style=\"white-space:pre;overflow-x:auto;line-height:normal;font-family:Menlo,'DejaVu Sans Mono',consolas,'Courier New',monospace\">Downloading mplfinance-0.12.10b0-py3-none-any.whl (75 kB)\n",
              "</pre>\n"
            ]
          },
          "metadata": {}
        },
        {
          "output_type": "display_data",
          "data": {
            "text/plain": [
              "Output()"
            ],
            "application/vnd.jupyter.widget-view+json": {
              "version_major": 2,
              "version_minor": 0,
              "model_id": "e3af865da879491e94695cad5db5afc0"
            }
          },
          "metadata": {}
        },
        {
          "output_type": "display_data",
          "data": {
            "text/plain": [],
            "text/html": [
              "<pre style=\"white-space:pre;overflow-x:auto;line-height:normal;font-family:Menlo,'DejaVu Sans Mono',consolas,'Courier New',monospace\"></pre>\n"
            ]
          },
          "metadata": {}
        },
        {
          "output_type": "display_data",
          "data": {
            "text/plain": [
              "\n"
            ],
            "text/html": [
              "<pre style=\"white-space:pre;overflow-x:auto;line-height:normal;font-family:Menlo,'DejaVu Sans Mono',consolas,'Courier New',monospace\">\n",
              "</pre>\n"
            ]
          },
          "metadata": {}
        },
        {
          "output_type": "display_data",
          "data": {
            "text/plain": [
              "Installing collected packages: mplfinance\n"
            ],
            "text/html": [
              "<pre style=\"white-space:pre;overflow-x:auto;line-height:normal;font-family:Menlo,'DejaVu Sans Mono',consolas,'Courier New',monospace\">Installing collected packages: mplfinance\n",
              "</pre>\n"
            ]
          },
          "metadata": {}
        },
        {
          "output_type": "display_data",
          "data": {
            "text/plain": [
              "Successfully installed mplfinance-0.12.10b0\n"
            ],
            "text/html": [
              "<pre style=\"white-space:pre;overflow-x:auto;line-height:normal;font-family:Menlo,'DejaVu Sans Mono',consolas,'Courier New',monospace\">Successfully installed mplfinance-0.12.10b0\n",
              "</pre>\n"
            ]
          },
          "metadata": {}
        },
        {
          "name": "stdout",
          "output_type": "stream",
          "text": [
            "Enter ticker: AAPL\n",
            "Enter interval: 1day\n"
          ]
        }
      ],
      "source": [
        "import requests\n",
        "import pandas as pd\n",
        "import matplotlib.pyplot as plt\n",
        "import json\n",
        "from google.colab import userdata\n",
        "key=userdata.get('key')\n",
        "if key:\n",
        "    print(\"TwelveData API key retrieved successfully!\")\n",
        "else:\n",
        "    print(\"Failed to retrieve Twelve Data API key. Please check your setup.\")\n",
        "key2=userdata.get('key2')\n",
        "if key2:\n",
        "    print(\"FMP API key is set!\")\n",
        "else:\n",
        "    print(\"Failed to set FMP API key. Please check your setup.\")\n",
        "# this function is used to install and import the python packages that we are going to use for the project\n",
        "def install_and_import(package):\n",
        "    import importlib\n",
        "    try:\n",
        "        importlib.import_module(package)\n",
        "    except ImportError:\n",
        "        import pip\n",
        "        pip.main(['install', package])\n",
        "    finally:\n",
        "        globals()[package] = importlib.import_module(package)\n",
        "\n",
        "\n",
        "install_and_import('mplfinance')\n",
        "\n",
        "# User Input is required to analyze different companies using their Ticker and interval\n",
        "ticker = input('Enter ticker: ')\n",
        "interval = input('Enter interval: ')\n",
        "\n",
        "# we are using twelve data API to fetch the data then we are cleaning the data and creating the charts and other metrics used for the financial analysis\n",
        "url = f'https://api.twelvedata.com/time_series?symbol={ticker}&start_date=2023-01-01&end_date=2024-01-01&interval={interval}&outputsize=12&apikey={key}'\n",
        "\n",
        "data_raw = requests.get(url).json()"
      ]
    },
    {
      "cell_type": "code",
      "execution_count": 2,
      "metadata": {
        "id": "nYsmwt5jkXOK"
      },
      "outputs": [],
      "source": [
        "url_profile = f'https://api.twelvedata.com/profile?symbol={ticker}&apikey={key}'\n",
        "profile_raw = requests.get(url_profile).json()\n"
      ]
    },
    {
      "cell_type": "code",
      "execution_count": 3,
      "metadata": {
        "id": "82VnUc7HkXOL",
        "colab": {
          "base_uri": "https://localhost:8080/"
        },
        "outputId": "575f6587-394b-46c4-d68a-9d02d6e3e857"
      },
      "outputs": [
        {
          "output_type": "stream",
          "name": "stdout",
          "text": [
            "Company Profile:\n",
            "Symbol: AAPL\n",
            "Name: Apple Inc\n",
            "Industry: Consumer Electronics | Sector: Technology\n",
            "Exchange: NASDAQ (MIC Code: XNGS)\n",
            "Employees: 161000\n",
            "Website: https://www.apple.com\n",
            "\n",
            "Description:\n",
            "Apple Inc. designs, manufactures, and markets smartphones, personal computers, tablets, wearables, and accessories worldwide. The company offers iPhone, a line of smartphones; Mac, a line of personal computers; iPad, a line of multi-purpose tablets; and wearables, home, and accessories comprising AirPods, Apple TV, Apple Watch, Beats products, and HomePod. It also provides AppleCare support and cloud services; and operates various platforms, including the App Store that allow customers to discover and download applications and digital content, such as books, music, video, games, and podcasts. In addition, the company offers various services, such as Apple Arcade, a game subscription service; Apple Fitness+, a personalized fitness service; Apple Music, which offers users a curated listening experience with on-demand radio stations; Apple News+, a subscription news and magazine service; Apple TV+, which offers exclusive original content; Apple Card, a co-branded credit card; and Apple Pay, a cashless payment service, as well as licenses its intellectual property. The company serves consumers, and small and mid-sized businesses; and the education, enterprise, and government markets. It distributes third-party applications for its products through the App Store. The company also sells its products through its retail and online stores, and direct sales force; and third-party cellular network carriers, wholesalers, retailers, and resellers. Apple Inc. was founded in 1976 and is headquartered in Cupertino, California.\n",
            "\n",
            "CEO Information:\n",
            "CEO: Mr. Timothy D. Cook\n",
            "\n",
            "Contact Information:\n",
            "Address: One Apple Park Way, Cupertino, CA 95014, United States\n",
            "Phone: 408 996 1010\n"
          ]
        }
      ],
      "source": [
        "# this cell is used to clear the json format to make the company profile more human readable\n",
        "\n",
        "print(\"Company Profile:\")\n",
        "print(f\"Symbol: {profile_raw['symbol']}\")\n",
        "print(f\"Name: {profile_raw['name']}\")\n",
        "print(f\"Industry: {profile_raw['industry']} | Sector: {profile_raw['sector']}\")\n",
        "print(f\"Exchange: {profile_raw['exchange']} (MIC Code: {profile_raw['mic_code']})\")\n",
        "print(f\"Employees: {profile_raw['employees']}\")\n",
        "print(f\"Website: {profile_raw['website']}\\n\")\n",
        "\n",
        "print(\"Description:\")\n",
        "print(profile_raw['description'] + \"\\n\")\n",
        "\n",
        "print(\"CEO Information:\")\n",
        "print(f\"CEO: {profile_raw['CEO']}\\n\")\n",
        "\n",
        "print(\"Contact Information:\")\n",
        "print(f\"Address: {profile_raw['address']}, {profile_raw['city']}, {profile_raw['state']} {profile_raw['zip']}, {profile_raw['country']}\")\n",
        "print(f\"Phone: {profile_raw['phone']}\")"
      ]
    },
    {
      "cell_type": "code",
      "execution_count": 4,
      "metadata": {
        "id": "kzpF2MfPkXOL",
        "colab": {
          "base_uri": "https://localhost:8080/",
          "height": 594
        },
        "outputId": "229f1a56-c359-48ac-a1de-cb8264ebda23"
      },
      "outputs": [
        {
          "output_type": "display_data",
          "data": {
            "text/plain": [
              "<Figure size 800x575 with 4 Axes>"
            ],
            "image/png": "[encoded data removed]"
          },
          "metadata": {}
        }
      ],
      "source": [
        "# in this cell we are using MPLfinance package which is great to produce the financial charts and we are creating the candlestick chart by utilizing the\n",
        "# data we gathered using the API\n",
        "data = pd.DataFrame(data_raw['values'])\n",
        "data['datetime'] = pd.to_datetime(data['datetime'])\n",
        "data[['open', 'high', 'low', 'close', 'volume']] = data[['open', 'high', 'low', 'close', 'volume']].astype(float)\n",
        "data.set_index('datetime', inplace=True)\n",
        "mplfinance.plot(data, type='candle', volume=True, title=f\"{data_raw['meta']['symbol']} Stock Price Chart\", style='yahoo')"
      ]
    },
    {
      "cell_type": "code",
      "execution_count": 5,
      "metadata": {
        "id": "RlWrqSUckXOM",
        "colab": {
          "base_uri": "https://localhost:8080/",
          "height": 607
        },
        "outputId": "6703e35e-3516-430d-91db-c6ffe4df5849"
      },
      "outputs": [
        {
          "output_type": "display_data",
          "data": {
            "text/plain": [
              "<Figure size 1000x600 with 1 Axes>"
            ],
            "image/png": "[encoded data removed]"
          },
          "metadata": {}
        }
      ],
      "source": [
        "data = pd.DataFrame(data_raw['values'])\n",
        "data['datetime'] = pd.to_datetime(data['datetime'])\n",
        "data[['open', 'high', 'low', 'close', 'volume']] = data[['open', 'high', 'low', 'close', 'volume']].astype(float)\n",
        "\n",
        "# Plot the line chart for 'close' prices over time\n",
        "plt.figure(figsize=(10,6))\n",
        "plt.plot(data['datetime'], data['close'], label='Close Price', color='blue', marker='o')\n",
        "\n",
        "# Adding labels and title to the price chart\n",
        "plt.xlabel('Date')\n",
        "plt.ylabel('Close Price (USD)')\n",
        "plt.title(f\"{data_raw['meta']['symbol']} Stock Close Price Over Time\")\n",
        "plt.grid(True)\n",
        "plt.legend()\n",
        "\n",
        "# Show the plot\n",
        "plt.xticks(rotation=45)\n",
        "plt.tight_layout()\n",
        "plt.show()"
      ]
    },
    {
      "cell_type": "code",
      "execution_count": 6,
      "metadata": {
        "id": "F1gzC4MskXOM"
      },
      "outputs": [],
      "source": [
        "url2 = f'https://api.twelvedata.com/earnings_estimate?symbol={ticker}&apikey={key}'\n",
        "data_raw2 = requests.get(url2).json()"
      ]
    },
    {
      "cell_type": "code",
      "execution_count": 7,
      "metadata": {
        "id": "jb86BZywkXOM",
        "colab": {
          "base_uri": "https://localhost:8080/"
        },
        "outputId": "a2f70850-331e-4d62-8c80-8db71c294ebf"
      },
      "outputs": [
        {
          "output_type": "stream",
          "name": "stdout",
          "text": [
            "Meta Information:\n",
            "Symbol: AAPL\n",
            "Name: Apple Inc\n",
            "Currency: USD\n",
            "Exchange: NASDAQ (Timezone: America/New_York)\n",
            "MIC Code: XNGS\n",
            "Type: Common Stock\n",
            "\n",
            "Earnings Estimate Data:\n",
            "      date          period  number_of_analysts  avg_estimate  low_estimate  high_estimate  year_ago_eps\n",
            "2024-09-30 current_quarter                  26          1.45          1.39           1.49          1.36\n",
            "2024-12-31    next_quarter                  20          2.17          2.00           2.36          2.18\n",
            "2024-09-30    current_year                  41          6.07          5.95           6.12          5.73\n",
            "2025-09-30       next_year                  41          6.78          6.23           7.25          6.07\n"
          ]
        }
      ],
      "source": [
        "# in this cell we are using API to get earnings estimates and then presenting it in the output cell\n",
        "\n",
        "earnings_df = pd.DataFrame(data_raw2['earnings_estimate'])\n",
        "print(\"Meta Information:\")\n",
        "print(f\"Symbol: {data_raw2['meta']['symbol']}\")\n",
        "print(f\"Name: {data_raw2['meta']['name']}\")\n",
        "print(f\"Currency: {data_raw2['meta']['currency']}\")\n",
        "print(f\"Exchange: {data_raw2['meta']['exchange']} (Timezone: {data_raw2['meta']['exchange_timezone']})\")\n",
        "print(f\"MIC Code: {data_raw2['meta']['mic_code']}\")\n",
        "print(f\"Type: {data_raw2['meta']['type']}\\n\")\n",
        "\n",
        "print(\"Earnings Estimate Data:\")\n",
        "print(earnings_df.to_string(index=False))"
      ]
    },
    {
      "cell_type": "code",
      "execution_count": 8,
      "metadata": {
        "id": "spflq_UKkXOM"
      },
      "outputs": [],
      "source": [
        "url3 = f'https://api.twelvedata.com/growth_estimates?symbol={ticker}&apikey={key}'\n",
        "data_raw3 = requests.get(url3).json()"
      ]
    },
    {
      "cell_type": "code",
      "execution_count": 9,
      "metadata": {
        "id": "mKH9n_tNkXON",
        "colab": {
          "base_uri": "https://localhost:8080/"
        },
        "outputId": "1f6e623e-b314-4fff-963f-5ceb6f8bbfa7"
      },
      "outputs": [
        {
          "output_type": "stream",
          "name": "stdout",
          "text": [
            "Growth Estimates:\n",
            "Current Quarter Growth: 6.60%\n",
            "Next Quarter Growth: -0.50%\n",
            "Current Year Growth: 5.90%\n",
            "Next Year Growth: 11.70%\n",
            "Next 5 Years Growth (per annum): 10.06%\n",
            "Past 5 Years Growth (per annum): 19.28%\n"
          ]
        }
      ],
      "source": [
        "# this cell is for the growth estimates\n",
        "print(\"Growth Estimates:\")\n",
        "print(f\"Current Quarter Growth: {data_raw3['growth_estimates']['current_quarter'] * 100:.2f}%\")\n",
        "print(f\"Next Quarter Growth: {data_raw3['growth_estimates']['next_quarter'] * 100:.2f}%\")\n",
        "print(f\"Current Year Growth: {data_raw3['growth_estimates']['current_year'] * 100:.2f}%\")\n",
        "print(f\"Next Year Growth: {data_raw3['growth_estimates']['next_year'] * 100:.2f}%\")\n",
        "print(f\"Next 5 Years Growth (per annum): {data_raw3['growth_estimates']['next_5_years_pa'] * 100:.2f}%\")\n",
        "print(f\"Past 5 Years Growth (per annum): {data_raw3['growth_estimates']['past_5_years_pa'] * 100:.2f}%\")"
      ]
    },
    {
      "cell_type": "code",
      "execution_count": 10,
      "metadata": {
        "id": "Yb4Cj_mRkXON"
      },
      "outputs": [],
      "source": [
        "url4 = f'https://api.twelvedata.com/ma?symbol={ticker}&interval={interval}&apikey={key}'\n",
        "raw_data4 = requests.get(url4).json()\n"
      ]
    },
    {
      "cell_type": "code",
      "execution_count": 11,
      "metadata": {
        "id": "Iyal06d2kXON",
        "colab": {
          "base_uri": "https://localhost:8080/"
        },
        "outputId": "dc383ed6-6fe4-4b41-e21a-f9d2c948266f"
      },
      "outputs": [
        {
          "output_type": "stream",
          "name": "stdout",
          "text": [
            "Symbol: AAPL\n",
            "Interval: 1day\n",
            "Currency: USD\n",
            "Exchange: NASDAQ (Timezone: America/New_York)\n",
            "MIC Code: XNGS\n",
            "Type: Common Stock\n",
            "Indicator: MA - Moving Average\n",
            "Series Type: close\n",
            "Time Period: 9 days\n",
            "Moving Average Type: SMA\n",
            "\n",
            "Moving Averages (SMA):\n",
            "Date: 2024-09-12, MA: 222.50723\n",
            "Date: 2024-09-11, MA: 223.25445\n",
            "Date: 2024-09-10, MA: 223.68000\n",
            "Date: 2024-09-09, MA: 224.56000\n",
            "Date: 2024-09-06, MA: 225.25667\n",
            "Date: 2024-09-05, MA: 225.92556\n",
            "Date: 2024-09-04, MA: 226.16444\n",
            "Date: 2024-09-03, MA: 226.78111\n",
            "Date: 2024-08-30, MA: 227.19666\n",
            "Date: 2024-08-29, MA: 226.85111\n",
            "Date: 2024-08-28, MA: 226.43555\n",
            "Date: 2024-08-27, MA: 226.23889\n",
            "Date: 2024-08-26, MA: 225.53778\n",
            "Date: 2024-08-23, MA: 224.88111\n",
            "Date: 2024-08-22, MA: 223.84667\n",
            "Date: 2024-08-21, MA: 222.92556\n",
            "Date: 2024-08-20, MA: 221.47111\n",
            "Date: 2024-08-19, MA: 219.61667\n",
            "Date: 2024-08-16, MA: 217.54333\n",
            "Date: 2024-08-15, MA: 215.67889\n",
            "Date: 2024-08-14, MA: 215.13889\n",
            "Date: 2024-08-13, MA: 214.76556\n",
            "Date: 2024-08-12, MA: 214.85556\n",
            "Date: 2024-08-09, MA: 214.99667\n",
            "Date: 2024-08-08, MA: 215.21889\n",
            "Date: 2024-08-07, MA: 215.73556\n",
            "Date: 2024-08-06, MA: 216.58778\n",
            "Date: 2024-08-05, MA: 217.84445\n",
            "Date: 2024-08-02, MA: 219.59333\n",
            "Date: 2024-08-01, MA: 220.04889\n"
          ]
        }
      ],
      "source": [
        "# this cell is fetching the moving average data of the company in order to do technical analysis\n",
        "print(f\"Symbol: {raw_data4['meta']['symbol']}\")\n",
        "print(f\"Interval: {raw_data4['meta']['interval']}\")\n",
        "print(f\"Currency: {raw_data4['meta']['currency']}\")\n",
        "print(f\"Exchange: {raw_data4['meta']['exchange']} (Timezone: {raw_data4['meta']['exchange_timezone']})\")\n",
        "print(f\"MIC Code: {raw_data4['meta']['mic_code']}\")\n",
        "print(f\"Type: {raw_data4['meta']['type']}\")\n",
        "print(f\"Indicator: {raw_data4['meta']['indicator']['name']}\")\n",
        "print(f\"Series Type: {raw_data4['meta']['indicator']['series_type']}\")\n",
        "print(f\"Time Period: {raw_data4['meta']['indicator']['time_period']} days\")\n",
        "print(f\"Moving Average Type: {raw_data4['meta']['indicator']['ma_type']}\\n\")\n",
        "\n",
        "print(\"Moving Averages (SMA):\")\n",
        "for value in raw_data4['values']:\n",
        "    print(f\"Date: {value['datetime']}, MA: {value['ma']}\")"
      ]
    },
    {
      "cell_type": "markdown",
      "metadata": {
        "id": "F49u6VB3kXON"
      },
      "source": [
        "for here on I'm gonna use FMP API - a powerful api used to get accurate financial data"
      ]
    },
    {
      "cell_type": "code",
      "execution_count": 12,
      "metadata": {
        "id": "_D4klAugkXOO"
      },
      "outputs": [],
      "source": [
        "# Now we are using another API named FMP which we are using to retrive the financial statements of the companies\n",
        "# as financial statements are essintial for the fundamental analysis\n",
        "\n",
        "url_1 = f'https://financialmodelingprep.com/api/v3/income-statement/{ticker}?period=annual&apikey={key2}'\n",
        "raw_data5 = requests.get(url_1).json()\n"
      ]
    },
    {
      "cell_type": "code",
      "execution_count": 13,
      "metadata": {
        "id": "EeV_836rkXOO",
        "colab": {
          "base_uri": "https://localhost:8080/"
        },
        "outputId": "6b79f177-7d4f-4d78-8c32-392605420ee2"
      },
      "outputs": [
        {
          "output_type": "stream",
          "name": "stdout",
          "text": [
            "                                       Metric      2023-09-30      2022-09-24  \\\n",
            "0                                     Revenue 383285000000.00 394328000000.00   \n",
            "1                             Cost of Revenue 214137000000.00 223546000000.00   \n",
            "2                                Gross Profit 169148000000.00 170782000000.00   \n",
            "3                          Gross Profit Ratio          0.4413          0.4331   \n",
            "4                                R&D Expenses  29915000000.00  26251000000.00   \n",
            "5                               SG&A Expenses  24932000000.00  25094000000.00   \n",
            "6                          Operating Expenses  55229000000.00  51573000000.00   \n",
            "7                                      EBITDA 125820000000.00 130541000000.00   \n",
            "8                                EBITDA Ratio          0.3283          0.3310   \n",
            "9                            Operating Income 114301000000.00 119437000000.00   \n",
            "10                     Operating Income Ratio          0.2982          0.3029   \n",
            "11                                 Net Income  96995000000.00  99803000000.00   \n",
            "12                           Net Income Ratio          0.2531          0.2531   \n",
            "13                                        EPS            6.16            6.15   \n",
            "14                                Diluted EPS            6.13            6.11   \n",
            "15            Weighted Avg Shares Outstanding  15744231000.00  16215963000.00   \n",
            "16  Weighted Avg Shares Outstanding (Diluted)  15812547000.00  16325819000.00   \n",
            "\n",
            "        2021-09-25      2020-09-26      2019-09-28  \n",
            "0  365817000000.00 274515000000.00 260174000000.00  \n",
            "1  212981000000.00 169559000000.00 161782000000.00  \n",
            "2  152836000000.00 104956000000.00  98392000000.00  \n",
            "3           0.4178          0.3823          0.3782  \n",
            "4   21914000000.00  18752000000.00  16217000000.00  \n",
            "5   21973000000.00  19916000000.00  18245000000.00  \n",
            "6   43827000000.00  38755000000.00  34040000000.00  \n",
            "7  120233000000.00  77344000000.00  76477000000.00  \n",
            "8           0.3287          0.2817          0.2939  \n",
            "9  108949000000.00  66288000000.00  63930000000.00  \n",
            "10          0.2978          0.2415          0.2457  \n",
            "11  94680000000.00  57411000000.00  55256000000.00  \n",
            "12          0.2588          0.2091          0.2124  \n",
            "13            5.67            3.31            2.99  \n",
            "14            5.61            3.28            2.97  \n",
            "15  16701272000.00  17352119000.00  18471336000.00  \n",
            "16  16864919000.00  17528214000.00  18595652000.00  \n"
          ]
        },
        {
          "output_type": "stream",
          "name": "stderr",
          "text": [
            "<ipython-input-13-8e1aa22228b7>:57: FutureWarning: DataFrame.applymap has been deprecated. Use DataFrame.map instead.\n",
            "  df.loc[df['Metric'] == col, dates] = df.loc[df['Metric'] == col, dates].applymap(lambda x: f\"{x:.4f}\")\n",
            "<ipython-input-13-8e1aa22228b7>:57: FutureWarning: Setting an item of incompatible dtype is deprecated and will raise in a future error of pandas. Value '['0.4413']' has dtype incompatible with float64, please explicitly cast to a compatible dtype first.\n",
            "  df.loc[df['Metric'] == col, dates] = df.loc[df['Metric'] == col, dates].applymap(lambda x: f\"{x:.4f}\")\n",
            "<ipython-input-13-8e1aa22228b7>:57: FutureWarning: Setting an item of incompatible dtype is deprecated and will raise in a future error of pandas. Value '['0.4331']' has dtype incompatible with float64, please explicitly cast to a compatible dtype first.\n",
            "  df.loc[df['Metric'] == col, dates] = df.loc[df['Metric'] == col, dates].applymap(lambda x: f\"{x:.4f}\")\n",
            "<ipython-input-13-8e1aa22228b7>:57: FutureWarning: Setting an item of incompatible dtype is deprecated and will raise in a future error of pandas. Value '['0.4178']' has dtype incompatible with float64, please explicitly cast to a compatible dtype first.\n",
            "  df.loc[df['Metric'] == col, dates] = df.loc[df['Metric'] == col, dates].applymap(lambda x: f\"{x:.4f}\")\n",
            "<ipython-input-13-8e1aa22228b7>:57: FutureWarning: Setting an item of incompatible dtype is deprecated and will raise in a future error of pandas. Value '['0.3823']' has dtype incompatible with float64, please explicitly cast to a compatible dtype first.\n",
            "  df.loc[df['Metric'] == col, dates] = df.loc[df['Metric'] == col, dates].applymap(lambda x: f\"{x:.4f}\")\n",
            "<ipython-input-13-8e1aa22228b7>:57: FutureWarning: Setting an item of incompatible dtype is deprecated and will raise in a future error of pandas. Value '['0.3782']' has dtype incompatible with float64, please explicitly cast to a compatible dtype first.\n",
            "  df.loc[df['Metric'] == col, dates] = df.loc[df['Metric'] == col, dates].applymap(lambda x: f\"{x:.4f}\")\n",
            "<ipython-input-13-8e1aa22228b7>:57: FutureWarning: DataFrame.applymap has been deprecated. Use DataFrame.map instead.\n",
            "  df.loc[df['Metric'] == col, dates] = df.loc[df['Metric'] == col, dates].applymap(lambda x: f\"{x:.4f}\")\n",
            "<ipython-input-13-8e1aa22228b7>:57: FutureWarning: DataFrame.applymap has been deprecated. Use DataFrame.map instead.\n",
            "  df.loc[df['Metric'] == col, dates] = df.loc[df['Metric'] == col, dates].applymap(lambda x: f\"{x:.4f}\")\n",
            "<ipython-input-13-8e1aa22228b7>:57: FutureWarning: DataFrame.applymap has been deprecated. Use DataFrame.map instead.\n",
            "  df.loc[df['Metric'] == col, dates] = df.loc[df['Metric'] == col, dates].applymap(lambda x: f\"{x:.4f}\")\n"
          ]
        }
      ],
      "source": [
        "data_for_df = {\n",
        "    'Metric': [\n",
        "        'Revenue',\n",
        "        'Cost of Revenue',\n",
        "        'Gross Profit',\n",
        "        'Gross Profit Ratio',\n",
        "        'R&D Expenses',\n",
        "        'SG&A Expenses',\n",
        "        'Operating Expenses',\n",
        "        'EBITDA',\n",
        "        'EBITDA Ratio',\n",
        "        'Operating Income',\n",
        "        'Operating Income Ratio',\n",
        "        'Net Income',\n",
        "        'Net Income Ratio',\n",
        "        'EPS',\n",
        "        'Diluted EPS',\n",
        "        'Weighted Avg Shares Outstanding',\n",
        "        'Weighted Avg Shares Outstanding (Diluted)'\n",
        "    ]\n",
        "}\n",
        "\n",
        "# Extract dates and metrics into the dictionary\n",
        "dates = [report['date'] for report in raw_data5]\n",
        "for i, report in enumerate(raw_data5):\n",
        "    data_for_df[dates[i]] = [\n",
        "        report['revenue'],\n",
        "        report['costOfRevenue'],\n",
        "        report['grossProfit'],\n",
        "        report['grossProfitRatio'],\n",
        "        report['researchAndDevelopmentExpenses'],\n",
        "        report['sellingGeneralAndAdministrativeExpenses'],\n",
        "        report['operatingExpenses'],\n",
        "        report['ebitda'],\n",
        "        report['ebitdaratio'],\n",
        "        report['operatingIncome'],\n",
        "        report['operatingIncomeRatio'],\n",
        "        report['netIncome'],\n",
        "        report['netIncomeRatio'],\n",
        "        report['eps'],\n",
        "        report['epsdiluted'],\n",
        "        report['weightedAverageShsOut'],\n",
        "        report['weightedAverageShsOutDil']\n",
        "    ]\n",
        "\n",
        "# Convert the dictionary to a DataFrame\n",
        "df = pd.DataFrame(data_for_df)\n",
        "\n",
        "# Set pandas to display large numbers without scientific notation\n",
        "pd.set_option('display.float_format', '{:.2f}'.format)\n",
        "\n",
        "# For columns that require precision (like ratios), we can adjust the specific display options manually\n",
        "precision_cols = ['Gross Profit Ratio', 'EBITDA Ratio', 'Operating Income Ratio', 'Net Income Ratio']\n",
        "\n",
        "# Adjust precision for ratio columns to 4 decimal places\n",
        "for col in precision_cols:\n",
        "    df.loc[df['Metric'] == col, dates] = df.loc[df['Metric'] == col, dates].applymap(lambda x: f\"{x:.4f}\")\n",
        "\n",
        "# Display the DataFrame in a vertical format with time series across columns\n",
        "print(df)"
      ]
    },
    {
      "cell_type": "code",
      "execution_count": 14,
      "metadata": {
        "id": "kPqGAubJkXOO"
      },
      "outputs": [],
      "source": [
        "url_2 = f'https://financialmodelingprep.com/api/v3/balance-sheet-statement/{ticker}?period=annual&apikey={key2}'\n",
        "\n",
        "raw_data6 = requests.get(url_2).json()\n",
        "\n"
      ]
    },
    {
      "cell_type": "code",
      "execution_count": 15,
      "metadata": {
        "id": "2B8liu-WkXOO",
        "colab": {
          "base_uri": "https://localhost:8080/"
        },
        "outputId": "39212a76-67f0-40b1-a26f-6870b1f55557"
      },
      "outputs": [
        {
          "output_type": "stream",
          "name": "stdout",
          "text": [
            "                                     Metric    2023-09-30    2022-09-24  \\\n",
            "0                    cashAndCashEquivalents   29965000000   23646000000   \n",
            "1                      shortTermInvestments   31590000000   24658000000   \n",
            "2               cashAndShortTermInvestments   61555000000   48304000000   \n",
            "3                            netReceivables   60985000000   60932000000   \n",
            "4                                 inventory    6331000000    4946000000   \n",
            "5                        otherCurrentAssets   14695000000   21223000000   \n",
            "6                        totalCurrentAssets  143566000000  135405000000   \n",
            "7                 propertyPlantEquipmentNet   54376000000   52534000000   \n",
            "8                                  goodwill             0             0   \n",
            "9                          intangibleAssets             0             0   \n",
            "10              goodwillAndIntangibleAssets             0             0   \n",
            "11                      longTermInvestments  100544000000  120805000000   \n",
            "12                                taxAssets   17852000000   15375000000   \n",
            "13                    otherNonCurrentAssets   36245000000   28636000000   \n",
            "14                    totalNonCurrentAssets  209017000000  217350000000   \n",
            "15                              otherAssets             0             0   \n",
            "16                              totalAssets  352583000000  352755000000   \n",
            "17                          accountPayables   62611000000   64115000000   \n",
            "18                            shortTermDebt   17382000000   22773000000   \n",
            "19                              taxPayables    8819000000    6552000000   \n",
            "20                          deferredRevenue    8061000000    7912000000   \n",
            "21                  otherCurrentLiabilities   57254000000   59182000000   \n",
            "22                  totalCurrentLiabilities  145308000000  153982000000   \n",
            "23                             longTermDebt  106548000000  109707000000   \n",
            "24                deferredRevenueNonCurrent             0             0   \n",
            "25         deferredTaxLiabilitiesNonCurrent             0             0   \n",
            "26               otherNonCurrentLiabilities   38581000000   38394000000   \n",
            "27               totalNonCurrentLiabilities  145129000000  148101000000   \n",
            "28                         otherLiabilities             0             0   \n",
            "29                  capitalLeaseObligations   12842000000   12411000000   \n",
            "30                         totalLiabilities  290437000000  302083000000   \n",
            "31                           preferredStock             0             0   \n",
            "32                              commonStock   73812000000   64849000000   \n",
            "33                         retainedEarnings    -214000000   -3068000000   \n",
            "34  accumulatedOtherComprehensiveIncomeLoss  -11452000000  -11109000000   \n",
            "35             othertotalStockholdersEquity             0             0   \n",
            "36                  totalStockholdersEquity   62146000000   50672000000   \n",
            "37                              totalEquity   62146000000   50672000000   \n",
            "38    totalLiabilitiesAndStockholdersEquity  352583000000  352755000000   \n",
            "39                         minorityInterest             0             0   \n",
            "40           totalLiabilitiesAndTotalEquity  352583000000  352755000000   \n",
            "41                         totalInvestments  132134000000  145463000000   \n",
            "42                                totalDebt  123930000000  132480000000   \n",
            "43                                  netDebt   93965000000  108834000000   \n",
            "\n",
            "      2021-09-25    2020-09-26    2019-09-28  \n",
            "0    34940000000   38016000000   48844000000  \n",
            "1    27699000000   52927000000   51713000000  \n",
            "2    62639000000   90943000000  100557000000  \n",
            "3    51506000000   37445000000   45804000000  \n",
            "4     6580000000    4061000000    4106000000  \n",
            "5    14111000000   11264000000   12352000000  \n",
            "6   134836000000  143713000000  162819000000  \n",
            "7    49527000000   45336000000   37378000000  \n",
            "8              0             0             0  \n",
            "9              0             0             0  \n",
            "10             0             0             0  \n",
            "11  127877000000  100887000000  105341000000  \n",
            "12             0             0             0  \n",
            "13   38762000000   33952000000   32978000000  \n",
            "14  216166000000  180175000000  175697000000  \n",
            "15             0             0             0  \n",
            "16  351002000000  323888000000  338516000000  \n",
            "17   54763000000   42296000000   46236000000  \n",
            "18   17141000000   15229000000   16240000000  \n",
            "19             0             0             0  \n",
            "20    7612000000    6643000000    5522000000  \n",
            "21   45965000000   41224000000   37720000000  \n",
            "22  125481000000  105392000000  105718000000  \n",
            "23  119381000000  107049000000   91807000000  \n",
            "24             0             0             0  \n",
            "25             0             0             0  \n",
            "26   43050000000   46108000000   50503000000  \n",
            "27  162431000000  153157000000  142310000000  \n",
            "28             0             0             0  \n",
            "29   11803000000    9842000000             0  \n",
            "30  287912000000  258549000000  248028000000  \n",
            "31             0             0             0  \n",
            "32   57365000000   50779000000   45174000000  \n",
            "33    5562000000   14966000000   45898000000  \n",
            "34     163000000    -406000000    -584000000  \n",
            "35             0             0             0  \n",
            "36   63090000000   65339000000   90488000000  \n",
            "37   63090000000   65339000000   90488000000  \n",
            "38  351002000000  323888000000  338516000000  \n",
            "39             0             0             0  \n",
            "40  351002000000  323888000000  338516000000  \n",
            "41  155576000000  153814000000  157054000000  \n",
            "42  136522000000  122278000000  108047000000  \n",
            "43  101582000000   84262000000   59203000000  \n"
          ]
        }
      ],
      "source": [
        "\n",
        "\n",
        "data_for_df = {\n",
        "    'Metric': [\n",
        "\n",
        "        'cashAndCashEquivalents',\n",
        "        'shortTermInvestments',\n",
        "        'cashAndShortTermInvestments',\n",
        "        'netReceivables',\n",
        "        'inventory',\n",
        "        'otherCurrentAssets',\n",
        "        'totalCurrentAssets',\n",
        "        'propertyPlantEquipmentNet',\n",
        "        'goodwill',\n",
        "        'intangibleAssets',\n",
        "        'goodwillAndIntangibleAssets',\n",
        "        'longTermInvestments',\n",
        "        'taxAssets',\n",
        "        'otherNonCurrentAssets',\n",
        "        'totalNonCurrentAssets',\n",
        "        'otherAssets',\n",
        "        'totalAssets',\n",
        "        'accountPayables',\n",
        "        'shortTermDebt',\n",
        "        'taxPayables',\n",
        "        'deferredRevenue',\n",
        "        'otherCurrentLiabilities',\n",
        "        'totalCurrentLiabilities',\n",
        "        'longTermDebt',\n",
        "        'deferredRevenueNonCurrent',\n",
        "        'deferredTaxLiabilitiesNonCurrent',\n",
        "        'otherNonCurrentLiabilities',\n",
        "        'totalNonCurrentLiabilities',\n",
        "        'otherLiabilities',\n",
        "        'capitalLeaseObligations',\n",
        "        'totalLiabilities',\n",
        "        'preferredStock',\n",
        "        'commonStock',\n",
        "        'retainedEarnings',\n",
        "        'accumulatedOtherComprehensiveIncomeLoss',\n",
        "        'othertotalStockholdersEquity',\n",
        "        'totalStockholdersEquity',\n",
        "        'totalEquity',\n",
        "        'totalLiabilitiesAndStockholdersEquity',\n",
        "        'minorityInterest',\n",
        "        'totalLiabilitiesAndTotalEquity',\n",
        "        'totalInvestments',\n",
        "        'totalDebt',\n",
        "        'netDebt'\n",
        "    ]\n",
        "}\n",
        "\n",
        "\n",
        "dates = [report['date'] for report in raw_data6]\n",
        "for i, report in enumerate(raw_data6):\n",
        "    data_for_df[dates[i]] = [\n",
        "        report['cashAndCashEquivalents'],\n",
        "        report['shortTermInvestments'],\n",
        "        report['cashAndShortTermInvestments'],\n",
        "        report['netReceivables'],\n",
        "        report['inventory'],\n",
        "        report['otherCurrentAssets'],\n",
        "        report['totalCurrentAssets'],\n",
        "        report['propertyPlantEquipmentNet'],\n",
        "        report['goodwill'],\n",
        "        report['intangibleAssets'],\n",
        "        report['goodwillAndIntangibleAssets'],\n",
        "        report['longTermInvestments'],\n",
        "        report['taxAssets'],\n",
        "        report['otherNonCurrentAssets'],\n",
        "        report['totalNonCurrentAssets'],\n",
        "        report['otherAssets'],\n",
        "        report['totalAssets'],\n",
        "        report['accountPayables'],\n",
        "        report['shortTermDebt'],\n",
        "        report['taxPayables'],\n",
        "        report['deferredRevenue'],\n",
        "        report['otherCurrentLiabilities'],\n",
        "        report['totalCurrentLiabilities'],\n",
        "        report['longTermDebt'],\n",
        "        report['deferredRevenueNonCurrent'],\n",
        "        report['deferredTaxLiabilitiesNonCurrent'],\n",
        "        report['otherNonCurrentLiabilities'],\n",
        "        report['totalNonCurrentLiabilities'],\n",
        "        report['otherLiabilities'],\n",
        "        report['capitalLeaseObligations'],\n",
        "        report['totalLiabilities'],\n",
        "        report['preferredStock'],\n",
        "        report['commonStock'],\n",
        "        report['retainedEarnings'],\n",
        "        report['accumulatedOtherComprehensiveIncomeLoss'],\n",
        "        report['othertotalStockholdersEquity'],\n",
        "        report['totalStockholdersEquity'],\n",
        "        report['totalEquity'],\n",
        "        report['totalLiabilitiesAndStockholdersEquity'],\n",
        "        report['minorityInterest'],\n",
        "        report['totalLiabilitiesAndTotalEquity'],\n",
        "        report['totalInvestments'],\n",
        "        report['totalDebt'],\n",
        "        report['netDebt']\n",
        "    ]\n",
        "\n",
        "df = pd.DataFrame(data_for_df)\n",
        "pd.set_option('display.float_format', '{:.2f}'.format)\n",
        "\n",
        "# Display the DataFrame in a vertical format with time series across columns\n",
        "print(df)"
      ]
    },
    {
      "cell_type": "code",
      "execution_count": 16,
      "metadata": {
        "id": "OdiigGTnkXOP"
      },
      "outputs": [],
      "source": [
        "url_3 = f'https://financialmodelingprep.com/api/v3/key-metrics/{ticker}?period=annual&apikey={key2}'\n",
        "\n",
        "raw_data7 = requests.get(url_3).json()\n",
        "\n",
        "\n"
      ]
    },
    {
      "cell_type": "code",
      "execution_count": 17,
      "metadata": {
        "id": "oiGmwkGMkXOP",
        "colab": {
          "base_uri": "https://localhost:8080/"
        },
        "outputId": "2b490f6d-ed11-49eb-ff48-d9361972a971"
      },
      "outputs": [
        {
          "output_type": "stream",
          "name": "stdout",
          "text": [
            "Symbol: AAPL\n",
            "Date: 2023-09-30\n",
            "Calendar Year: 2023\n",
            "Period: FY\n",
            "Revenue Per Share: 24.344472588086393\n",
            "Net Income Per Share: 6.160669263554378\n",
            "Operating Cash Flow Per Share: 7.021174930677783\n",
            "Free Cash Flow Per Share: 6.325110448392176\n",
            "Cash Per Share: 3.9096860303942442\n",
            "Book Value Per Share: 3.947223589389663\n",
            "Tangible Book Value Per Share: 3.947223589389663\n",
            "Shareholders Equity Per Share: 3.947223589389663\n",
            "Interest Debt Per Share: 8.121260415958075\n",
            "Market Cap: 2695569789510\n",
            "Enterprise Value: 2789534789510\n",
            "PE Ratio: 27.790811789370586\n",
            "Price to Sales Ratio: 7.032807935374461\n",
            "POCF Ratio: 24.384807626986785\n",
            "PFCF Ratio: 27.06830203155125\n",
            "PB Ratio: 43.37479145093811\n",
            "PTB Ratio: 43.37479145093811\n",
            "EV to Sales: 7.277964933430737\n",
            "Enterprise Value Over EBITDA: 22.170837621284374\n",
            "EV to Operating Cash Flow: 25.234838836561337\n",
            "EV to Free Cash Flow: 28.0118773046875\n",
            "Earnings Yield: 0.03598311584343425\n",
            "Free Cash Flow Yield: 0.03694358068098929\n",
            "Debt to Equity: 1.9941750072410132\n",
            "Debt to Assets: 0.3514917054991307\n",
            "Net Debt to EBITDA: 0.7468208551899539\n",
            "Current Ratio: 0.9880116717592975\n",
            "Interest Coverage: 29.062039155860667\n",
            "Income Quality: 1.1396773029537606\n",
            "Dividend Yield: 0.005573960673721321\n",
            "Payout Ratio: 0.1549048920047425\n",
            "Sales General and Administrative to Revenue: 0\n",
            "Research and Development to Revenue: 0.07804897139204509\n",
            "Intangibles to Total Assets: 0\n",
            "Capex to Operating Cash Flow: 0.0991378920420108\n",
            "Capex to Revenue: 0.02859230076835775\n",
            "Capex to Depreciation: 0.9513846688080563\n",
            "Stock Based Compensation to Revenue: 0.028263563666723196\n",
            "Graham Number: 23.391122856319186\n",
            "ROIC: 0.5238549660655409\n",
            "Return on Tangible Assets: 0.27509834563776475\n",
            "Graham Net Net: -11.431345868845547\n",
            "Working Capital: -1742000000\n",
            "Tangible Asset Value: 62146000000\n",
            "Net Current Asset Value: -146871000000\n",
            "Invested Capital: 52634000000\n",
            "Average Receivables: 60958500000\n",
            "Average Payables: 63363000000\n",
            "Average Inventory: 5638500000\n",
            "Days Sales Outstanding: 58.07564866874519\n",
            "Days Payables Outstanding: 106.72146803214763\n",
            "Days of Inventory on Hand: 10.791292490321615\n",
            "Receivables Turnover: 6.284906124456834\n",
            "Payables Turnover: 3.420117870661705\n",
            "Inventory Turnover: 33.82356657716001\n",
            "ROE: 1.5607601454639075\n",
            "Capex Per Share: 0.6960644822856067\n",
            "----------------------------------------\n",
            "Symbol: AAPL\n",
            "Date: 2022-09-24\n",
            "Calendar Year: 2022\n",
            "Period: FY\n",
            "Revenue Per Share: 24.31727304755197\n",
            "Net Income Per Share: 6.154614437637777\n",
            "Operating Cash Flow Per Share: 7.532762624088375\n",
            "Free Cash Flow Per Share: 6.872425646259799\n",
            "Cash Per Share: 2.9787931805221803\n",
            "Book Value Per Share: 3.124822127430853\n",
            "Tangible Book Value Per Share: 3.124822127430853\n",
            "Shareholders Equity Per Share: 3.124822127430853\n",
            "Interest Debt Per Share: 8.350475392673257\n",
            "Market Cap: 2439367314090\n",
            "Enterprise Value: 2548201314090\n",
            "PE Ratio: 24.441823533260525\n",
            "Price to Sales Ratio: 6.186137718067193\n",
            "POCF Ratio: 19.970096962693717\n",
            "PFCF Ratio: 21.888923611981014\n",
            "PB Ratio: 48.14034011071204\n",
            "PTB Ratio: 48.14034011071204\n",
            "EV to Sales: 6.462136379080359\n",
            "Enterprise Value Over EBITDA: 19.520314032296366\n",
            "EV to Operating Cash Flow: 20.861076160571752\n",
            "EV to Free Cash Flow: 22.865512540850478\n",
            "Earnings Yield: 0.040913477615088595\n",
            "Free Cash Flow Yield: 0.04568520671581333\n",
            "Debt to Equity: 2.6144616356173036\n",
            "Debt to Assets: 0.37555810690139046\n",
            "Net Debt to EBITDA: 0.8337150780214645\n",
            "Current Ratio: 0.8793560286267226\n",
            "Interest Coverage: 40.74957352439441\n",
            "Income Quality: 1.2239211246154926\n",
            "Dividend Yield: 0.006083954603424043\n",
            "Payout Ratio: 0.14870294480125848\n",
            "Sales General and Administrative to Revenue: 0\n",
            "Research and Development to Revenue: 0.06657148363798665\n",
            "Intangibles to Total Assets: 0\n",
            "Capex to Operating Cash Flow: 0.08766199212450164\n",
            "Capex to Revenue: 0.02715505873283155\n",
            "Capex to Depreciation: 0.9643371757925072\n",
            "Stock Based Compensation to Revenue: 0.022920005680550203\n",
            "Graham Number: 20.801963754945305\n",
            "ROIC: 0.5464470881998231\n",
            "Return on Tangible Assets: 0.2829244092925685\n",
            "Graham Net Net: -12.67929632054538\n",
            "Working Capital: -18577000000\n",
            "Tangible Asset Value: 50672000000\n",
            "Net Current Asset Value: -166678000000\n",
            "Invested Capital: 33957000000\n",
            "Average Receivables: 56219000000\n",
            "Average Payables: 59439000000\n",
            "Average Inventory: 5763000000\n",
            "Days Sales Outstanding: 56.400204905560855\n",
            "Days Payables Outstanding: 104.6852773031054\n",
            "Days of Inventory on Hand: 8.07569806661716\n",
            "Receivables Turnover: 6.471607693822622\n",
            "Payables Turnover: 3.486641191608828\n",
            "Inventory Turnover: 45.19733117670845\n",
            "ROE: 1.9695887275023682\n",
            "Capex Per Share: 0.6603369778285755\n",
            "----------------------------------------\n",
            "Symbol: AAPL\n",
            "Date: 2021-09-25\n",
            "Calendar Year: 2021\n",
            "Period: FY\n",
            "Revenue Per Share: 21.90354123925411\n",
            "Net Income Per Share: 5.669029281123018\n",
            "Operating Cash Flow Per Share: 6.229345884552985\n",
            "Free Cash Flow Per Share: 5.56562398361035\n",
            "Cash Per Share: 3.750552652516527\n",
            "Book Value Per Share: 3.7775565837141025\n",
            "Tangible Book Value Per Share: 3.7775565837141025\n",
            "Shareholders Equity Per Share: 3.7775565837141025\n",
            "Interest Debt Per Share: 8.332718609696315\n",
            "Market Cap: 2453750882240\n",
            "Enterprise Value: 2555332882240\n",
            "PE Ratio: 25.916253509083226\n",
            "Price to Sales Ratio: 6.707591178758778\n",
            "POCF Ratio: 23.585140835463964\n",
            "PFCF Ratio: 26.39775889148279\n",
            "PB Ratio: 38.89286546584245\n",
            "PTB Ratio: 38.89286546584245\n",
            "EV to Sales: 6.985276469491576\n",
            "Enterprise Value Over EBITDA: 21.253174105611603\n",
            "EV to Operating Cash Flow: 24.561534076395162\n",
            "EV to Free Cash Flow: 27.490590752746012\n",
            "Earnings Yield: 0.038585824129614886\n",
            "Free Cash Flow Yield: 0.03788200370004322\n",
            "Debt to Equity: 2.163924552226977\n",
            "Debt to Assets: 0.3889493507159503\n",
            "Net Debt to EBITDA: 0.8448761987141633\n",
            "Current Ratio: 1.0745531195957954\n",
            "Interest Coverage: 41.19054820415879\n",
            "Income Quality: 1.0988381918039714\n",
            "Dividend Yield: 0.0058958715429144335\n",
            "Payout Ratio: 0.15279890156316012\n",
            "Sales General and Administrative to Revenue: 0\n",
            "Research and Development to Revenue: 0.059904269074427925\n",
            "Intangibles to Total Assets: 0\n",
            "Capex to Operating Cash Flow: 0.1065476076049136\n",
            "Capex to Revenue: 0.030302036264033657\n",
            "Capex to Depreciation: 0.9823644097837646\n",
            "Stock Based Compensation to Revenue: 0.021611898845597662\n",
            "Graham Number: 21.950837680915992\n",
            "ROIC: 0.4731996064013072\n",
            "Return on Tangible Assets: 0.26974205275183616\n",
            "Graham Net Net: -10.97841529675105\n",
            "Working Capital: 9355000000\n",
            "Tangible Asset Value: 63090000000\n",
            "Net Current Asset Value: -153076000000\n",
            "Invested Capital: 58882000000\n",
            "Average Receivables: 44475500000\n",
            "Average Payables: 48529500000\n",
            "Average Inventory: 5320500000\n",
            "Days Sales Outstanding: 51.390968708397914\n",
            "Days Payables Outstanding: 93.85107122231561\n",
            "Days of Inventory on Hand: 11.27659274770989\n",
            "Receivables Turnover: 7.102415252591931\n",
            "Payables Turnover: 3.889140478060004\n",
            "Inventory Turnover: 32.367933130699086\n",
            "ROE: 1.5007132667617689\n",
            "Capex Per Share: 0.6637219009426348\n",
            "----------------------------------------\n",
            "Symbol: AAPL\n",
            "Date: 2020-09-26\n",
            "Calendar Year: 2020\n",
            "Period: FY\n",
            "Revenue Per Share: 15.820258033039078\n",
            "Net Income Per Share: 3.3085872682177895\n",
            "Operating Cash Flow Per Share: 4.649230448454163\n",
            "Free Cash Flow Per Share: 4.2280138811865\n",
            "Cash Per Share: 5.241031369137106\n",
            "Book Value Per Share: 3.765476712094932\n",
            "Tangible Book Value Per Share: 3.765476712094932\n",
            "Shareholders Equity Per Share: 3.765476712094932\n",
            "Interest Debt Per Share: 7.212433248066129\n",
            "Market Cap: 1948295921320\n",
            "Enterprise Value: 2032557921320\n",
            "PE Ratio: 33.93593425162425\n",
            "Price to Sales Ratio: 7.0972293729668685\n",
            "POCF Ratio: 24.150233300939583\n",
            "PFCF Ratio: 26.556204202548898\n",
            "PB Ratio: 29.818269660080503\n",
            "PTB Ratio: 29.818269660080503\n",
            "EV to Sales: 7.404177991439448\n",
            "Enterprise Value Over EBITDA: 26.27945181681837\n",
            "EV to Operating Cash Flow: 25.194708596573864\n",
            "EV to Free Cash Flow: 27.704735518571525\n",
            "Earnings Yield: 0.02946728952812424\n",
            "Free Cash Flow Yield: 0.03765598397921713\n",
            "Debt to Equity: 1.871439722064923\n",
            "Debt to Assets: 0.37753173936669465\n",
            "Net Debt to EBITDA: 1.0894445593711213\n",
            "Current Ratio: 1.3636044481554577\n",
            "Interest Coverage: 23.07274625826662\n",
            "Income Quality: 1.405201093867029\n",
            "Dividend Yield: 0.007227341517226967\n",
            "Payout Ratio: 0.24526658654264863\n",
            "Sales General and Administrative to Revenue: 0\n",
            "Research and Development to Revenue: 0.06830956414039306\n",
            "Intangibles to Total Assets: 0\n",
            "Capex to Operating Cash Flow: 0.09059920172546297\n",
            "Capex to Revenue: 0.026625138881299748\n",
            "Capex to Depreciation: 0.661089001447178\n",
            "Stock Based Compensation to Revenue: 0.024876600550061016\n",
            "Graham Number: 16.74258602902124\n",
            "ROIC: 0.30233858425832316\n",
            "Return on Tangible Assets: 0.1772557180259843\n",
            "Graham Net Net: -7.9236288086774875\n",
            "Working Capital: 38321000000\n",
            "Tangible Asset Value: 65339000000\n",
            "Net Current Asset Value: -114836000000\n",
            "Invested Capital: 83657000000\n",
            "Average Receivables: 41624500000\n",
            "Average Payables: 44266000000\n",
            "Average Inventory: 4083500000\n",
            "Days Sales Outstanding: 49.78753437881355\n",
            "Days Payables Outstanding: 91.04818971567418\n",
            "Days of Inventory on Hand: 8.741883356235881\n",
            "Receivables Turnover: 7.331152356789959\n",
            "Payables Turnover: 4.008866086627577\n",
            "Inventory Turnover: 41.75301649839941\n",
            "ROE: 0.8786635853012749\n",
            "Capex Per Share: 0.4212165672676634\n",
            "----------------------------------------\n",
            "Symbol: AAPL\n",
            "Date: 2019-09-28\n",
            "Calendar Year: 2019\n",
            "Period: FY\n",
            "Revenue Per Share: 14.085283273500087\n",
            "Net Income Per Share: 2.9914457730615696\n",
            "Operating Cash Flow Per Share: 3.7566854936751732\n",
            "Free Cash Flow Per Share: 3.1885078588792926\n",
            "Cash Per Share: 5.443948396585932\n",
            "Book Value Per Share: 4.898833522383005\n",
            "Tangible Book Value Per Share: 4.898833522383005\n",
            "Shareholders Equity Per Share: 4.898833522383005\n",
            "Interest Debt Per Share: 6.043038792646076\n",
            "Market Cap: 1010566792560\n",
            "Enterprise Value: 1069769792560\n",
            "PE Ratio: 18.28881555957724\n",
            "Price to Sales Ratio: 3.8841959325682045\n",
            "POCF Ratio: 14.563369782248419\n",
            "PFCF Ratio: 17.15849620619397\n",
            "PB Ratio: 11.167964730793033\n",
            "PTB Ratio: 11.167964730793033\n",
            "EV to Sales: 4.111747494215409\n",
            "Enterprise Value Over EBITDA: 13.988124436889523\n",
            "EV to Operating Cash Flow: 15.416549589428024\n",
            "EV to Free Cash Flow: 18.163708784297746\n",
            "Earnings Yield: 0.05467822652278504\n",
            "Free Cash Flow Yield: 0.05828016557995417\n",
            "Debt to Equity: 1.1940478295464592\n",
            "Debt to Assets: 0.3191784140188352\n",
            "Net Debt to EBITDA: 0.774128169253501\n",
            "Current Ratio: 1.540125617208044\n",
            "Interest Coverage: 17.87751677852349\n",
            "Income Quality: 1.2558093238743304\n",
            "Dividend Yield: 0.013971367458288728\n",
            "Payout Ratio: 0.25551976255972203\n",
            "Sales General and Administrative to Revenue: 0\n",
            "Research and Development to Revenue: 0.06233136285716482\n",
            "Intangibles to Total Assets: 0\n",
            "Capex to Operating Cash Flow: 0.15124439768846104\n",
            "Capex to Revenue: 0.04033838892433525\n",
            "Capex to Depreciation: 0.8364549294652108\n",
            "Stock Based Compensation to Revenue: 0.0233228531674956\n",
            "Graham Number: 18.158424594467483\n",
            "ROIC: 0.2706681700005164\n",
            "Return on Tangible Assets: 0.16323009842961633\n",
            "Graham Net Net: -6.012829824545447\n",
            "Working Capital: 57101000000\n",
            "Tangible Asset Value: 90488000000\n",
            "Net Current Asset Value: -85209000000\n",
            "Invested Capital: 94479000000\n",
            "Average Receivables: 47399500000\n",
            "Average Payables: 51062000000\n",
            "Average Inventory: 4031000000\n",
            "Days Sales Outstanding: 64.25876528784583\n",
            "Days Payables Outstanding: 104.31407696777144\n",
            "Days of Inventory on Hand: 9.263638723714628\n",
            "Receivables Turnover: 5.68015893808401\n",
            "Payables Turnover: 3.4990483605848257\n",
            "Inventory Turnover: 39.40136385776912\n",
            "ROE: 0.6106445053487756\n",
            "Capex Per Share: 0.5681776347958805\n",
            "----------------------------------------\n"
          ]
        }
      ],
      "source": [
        "\n",
        "def data_print(data):\n",
        "    for entry in data:\n",
        "        print(\"Symbol:\", entry.get(\"symbol\", \"N/A\"))\n",
        "        print(\"Date:\", entry.get(\"date\", \"N/A\"))\n",
        "        print(\"Calendar Year:\", entry.get(\"calendarYear\", \"N/A\"))\n",
        "        print(\"Period:\", entry.get(\"period\", \"N/A\"))\n",
        "        print(\"Revenue Per Share:\", entry.get(\"revenuePerShare\", \"N/A\"))\n",
        "        print(\"Net Income Per Share:\", entry.get(\"netIncomePerShare\", \"N/A\"))\n",
        "        print(\"Operating Cash Flow Per Share:\", entry.get(\"operatingCashFlowPerShare\", \"N/A\"))\n",
        "        print(\"Free Cash Flow Per Share:\", entry.get(\"freeCashFlowPerShare\", \"N/A\"))\n",
        "        print(\"Cash Per Share:\", entry.get(\"cashPerShare\", \"N/A\"))\n",
        "        print(\"Book Value Per Share:\", entry.get(\"bookValuePerShare\", \"N/A\"))\n",
        "        print(\"Tangible Book Value Per Share:\", entry.get(\"tangibleBookValuePerShare\", \"N/A\"))\n",
        "        print(\"Shareholders Equity Per Share:\", entry.get(\"shareholdersEquityPerShare\", \"N/A\"))\n",
        "        print(\"Interest Debt Per Share:\", entry.get(\"interestDebtPerShare\", \"N/A\"))\n",
        "        print(\"Market Cap:\", entry.get(\"marketCap\", \"N/A\"))\n",
        "        print(\"Enterprise Value:\", entry.get(\"enterpriseValue\", \"N/A\"))\n",
        "        print(\"PE Ratio:\", entry.get(\"peRatio\", \"N/A\"))\n",
        "        print(\"Price to Sales Ratio:\", entry.get(\"priceToSalesRatio\", \"N/A\"))\n",
        "        print(\"POCF Ratio:\", entry.get(\"pocfratio\", \"N/A\"))\n",
        "        print(\"PFCF Ratio:\", entry.get(\"pfcfRatio\", \"N/A\"))\n",
        "        print(\"PB Ratio:\", entry.get(\"pbRatio\", \"N/A\"))\n",
        "        print(\"PTB Ratio:\", entry.get(\"ptbRatio\", \"N/A\"))\n",
        "        print(\"EV to Sales:\", entry.get(\"evToSales\", \"N/A\"))\n",
        "        print(\"Enterprise Value Over EBITDA:\", entry.get(\"enterpriseValueOverEBITDA\", \"N/A\"))\n",
        "        print(\"EV to Operating Cash Flow:\", entry.get(\"evToOperatingCashFlow\", \"N/A\"))\n",
        "        print(\"EV to Free Cash Flow:\", entry.get(\"evToFreeCashFlow\", \"N/A\"))\n",
        "        print(\"Earnings Yield:\", entry.get(\"earningsYield\", \"N/A\"))\n",
        "        print(\"Free Cash Flow Yield:\", entry.get(\"freeCashFlowYield\", \"N/A\"))\n",
        "        print(\"Debt to Equity:\", entry.get(\"debtToEquity\", \"N/A\"))\n",
        "        print(\"Debt to Assets:\", entry.get(\"debtToAssets\", \"N/A\"))\n",
        "        print(\"Net Debt to EBITDA:\", entry.get(\"netDebtToEBITDA\", \"N/A\"))\n",
        "        print(\"Current Ratio:\", entry.get(\"currentRatio\", \"N/A\"))\n",
        "        print(\"Interest Coverage:\", entry.get(\"interestCoverage\", \"N/A\"))\n",
        "        print(\"Income Quality:\", entry.get(\"incomeQuality\", \"N/A\"))\n",
        "        print(\"Dividend Yield:\", entry.get(\"dividendYield\", \"N/A\"))\n",
        "        print(\"Payout Ratio:\", entry.get(\"payoutRatio\", \"N/A\"))\n",
        "        print(\"Sales General and Administrative to Revenue:\", entry.get(\"salesGeneralAndAdministrativeToRevenue\", \"N/A\"))\n",
        "        print(\"Research and Development to Revenue:\", entry.get(\"researchAndDdevelopementToRevenue\", \"N/A\"))\n",
        "        print(\"Intangibles to Total Assets:\", entry.get(\"intangiblesToTotalAssets\", \"N/A\"))\n",
        "        print(\"Capex to Operating Cash Flow:\", entry.get(\"capexToOperatingCashFlow\", \"N/A\"))\n",
        "        print(\"Capex to Revenue:\", entry.get(\"capexToRevenue\", \"N/A\"))\n",
        "        print(\"Capex to Depreciation:\", entry.get(\"capexToDepreciation\", \"N/A\"))\n",
        "        print(\"Stock Based Compensation to Revenue:\", entry.get(\"stockBasedCompensationToRevenue\", \"N/A\"))\n",
        "        print(\"Graham Number:\", entry.get(\"grahamNumber\", \"N/A\"))\n",
        "        print(\"ROIC:\", entry.get(\"roic\", \"N/A\"))\n",
        "        print(\"Return on Tangible Assets:\", entry.get(\"returnOnTangibleAssets\", \"N/A\"))\n",
        "        print(\"Graham Net Net:\", entry.get(\"grahamNetNet\", \"N/A\"))\n",
        "        print(\"Working Capital:\", entry.get(\"workingCapital\", \"N/A\"))\n",
        "        print(\"Tangible Asset Value:\", entry.get(\"tangibleAssetValue\", \"N/A\"))\n",
        "        print(\"Net Current Asset Value:\", entry.get(\"netCurrentAssetValue\", \"N/A\"))\n",
        "        print(\"Invested Capital:\", entry.get(\"investedCapital\", \"N/A\"))\n",
        "        print(\"Average Receivables:\", entry.get(\"averageReceivables\", \"N/A\"))\n",
        "        print(\"Average Payables:\", entry.get(\"averagePayables\", \"N/A\"))\n",
        "        print(\"Average Inventory:\", entry.get(\"averageInventory\", \"N/A\"))\n",
        "        print(\"Days Sales Outstanding:\", entry.get(\"daysSalesOutstanding\", \"N/A\"))\n",
        "        print(\"Days Payables Outstanding:\", entry.get(\"daysPayablesOutstanding\", \"N/A\"))\n",
        "        print(\"Days of Inventory on Hand:\", entry.get(\"daysOfInventoryOnHand\", \"N/A\"))\n",
        "        print(\"Receivables Turnover:\", entry.get(\"receivablesTurnover\", \"N/A\"))\n",
        "        print(\"Payables Turnover:\", entry.get(\"payablesTurnover\", \"N/A\"))\n",
        "        print(\"Inventory Turnover:\", entry.get(\"inventoryTurnover\", \"N/A\"))\n",
        "        print(\"ROE:\", entry.get(\"roe\", \"N/A\"))\n",
        "        print(\"Capex Per Share:\", entry.get(\"capexPerShare\", \"N/A\"))\n",
        "        print(\"-\" * 40)  # Separator between entries\n",
        "data_print(raw_data7)"
      ]
    }
  ],
  "metadata": {
    "kernelspec": {
      "display_name": "data_science",
      "language": "python",
      "name": "python3"
    },
    "language_info": {
      "codemirror_mode": {
        "name": "ipython",
        "version": 3
      },
      "file_extension": ".py",
      "mimetype": "text/x-python",
      "name": "python",
      "nbconvert_exporter": "python",
      "pygments_lexer": "ipython3",
      "version": "3.12.1"
    },
    "colab": {
      "provenance": [],
      "include_colab_link": true
    },
    "widgets": {
      "application/vnd.jupyter.widget-state+json": {
        "e3af865da879491e94695cad5db5afc0": {
          "model_module": "@jupyter-widgets/output",
          "model_name": "OutputModel",
          "model_module_version": "1.0.0",
          "state": {
            "_dom_classes": [],
            "_model_module": "@jupyter-widgets/output",
            "_model_module_version": "1.0.0",
            "_model_name": "OutputModel",
            "_view_count": null,
            "_view_module": "@jupyter-widgets/output",
            "_view_module_version": "1.0.0",
            "_view_name": "OutputView",
            "layout": "IPY_MODEL_fb44ce60e9034b588750a17b32f07437",
            "msg_id": "",
            "outputs": [
              {
                "output_type": "display_data",
                "data": {
                  "text/plain": "   \u001b[38;2;249;38;114m━━━━━━━━━━━━━━━━━━━━━━━━━━━━━━━━━━━━━━\u001b[0m\u001b[38;5;237m╺\u001b[0m\u001b[38;5;237m━\u001b[0m \u001b[32m71.7/75.0 kB\u001b[0m \u001b[31m111.8 MB/s\u001b[0m eta \u001b[36m0:00:01\u001b[0m\n",
                  "text/html": "<pre style=\"white-space:pre;overflow-x:auto;line-height:normal;font-family:Menlo,'DejaVu Sans Mono',consolas,'Courier New',monospace\">   <span style=\"color: #f92672; text-decoration-color: #f92672\">━━━━━━━━━━━━━━━━━━━━━━━━━━━━━━━━━━━━━━</span><span style=\"color: #3a3a3a; text-decoration-color: #3a3a3a\">╺━</span> <span style=\"color: #008000; text-decoration-color: #008000\">71.7/75.0 kB</span> <span style=\"color: #800000; text-decoration-color: #800000\">111.8 MB/s</span> eta <span style=\"color: #008080; text-decoration-color: #008080\">0:00:01</span>\n</pre>\n"
                },
                "metadata": {}
              }
            ]
          }
        },
        "fb44ce60e9034b588750a17b32f07437": {
          "model_module": "@jupyter-widgets/base",
          "model_name": "LayoutModel",
          "model_module_version": "1.2.0",
          "state": {
            "_model_module": "@jupyter-widgets/base",
            "_model_module_version": "1.2.0",
            "_model_name": "LayoutModel",
            "_view_count": null,
            "_view_module": "@jupyter-widgets/base",
            "_view_module_version": "1.2.0",
            "_view_name": "LayoutView",
            "align_content": null,
            "align_items": null,
            "align_self": null,
            "border": null,
            "bottom": null,
            "display": null,
            "flex": null,
            "flex_flow": null,
            "grid_area": null,
            "grid_auto_columns": null,
            "grid_auto_flow": null,
            "grid_auto_rows": null,
            "grid_column": null,
            "grid_gap": null,
            "grid_row": null,
            "grid_template_areas": null,
            "grid_template_columns": null,
            "grid_template_rows": null,
            "height": null,
            "justify_content": null,
            "justify_items": null,
            "left": null,
            "margin": null,
            "max_height": null,
            "max_width": null,
            "min_height": null,
            "min_width": null,
            "object_fit": null,
            "object_position": null,
            "order": null,
            "overflow": null,
            "overflow_x": null,
            "overflow_y": null,
            "padding": null,
            "right": null,
            "top": null,
            "visibility": null,
            "width": null
          }
        }
      }
    }
  },
  "nbformat": 4,
  "nbformat_minor": 0
}